{
 "cells": [
  {
   "cell_type": "raw",
   "metadata": {
    "vscode": {
     "languageId": "raw"
    }
   },
   "source": [
    "---\n",
    "TEMPLATE FOR WORKSHOP #3\n",
    "Python Programming II:\n",
    "    Introduction to Computational Molecular Biology\n",
    "Author: James Aaron Erang <erang.james@clsu2.edu.ph>\n",
    "---"
   ]
  },
  {
   "cell_type": "markdown",
   "metadata": {
    "vscode": {
     "languageId": "raw"
    }
   },
   "source": [
    "#### Case Study: An Alien Caused An Epidemic\n",
    "\n",
    "During a specific epidemic dating back to mid 1900s, it was\n",
    "estimated that more than 8,320,000 people had died and 25 million\n",
    "had been inflicted with a particular infectious disease caused\n",
    "by an unknown causative agent.\n",
    "\n",
    "Several reasons were made to account for its devastating damages\n",
    "including wrath of god, alien invasion, and a pathogen. Suppose\n",
    "you were a researcher back in mid 1900s with all of the present-day\n",
    "utilities. Using molecular techniques, a sequence of the \"_alien_\" was\n",
    "obtained and found out. How would you characterize this organism?"
   ]
  },
  {
   "cell_type": "markdown",
   "metadata": {},
   "source": [
    "#### DO NOT TOUCH STARTING FROM HERE!"
   ]
  },
  {
   "cell_type": "code",
   "execution_count": 1,
   "metadata": {},
   "outputs": [],
   "source": [
    "# open the data set\n",
    "with open(\"../data/alien_genome.txt\") as seq_:\n",
    "    seq = seq_.read()"
   ]
  },
  {
   "cell_type": "code",
   "execution_count": 2,
   "metadata": {},
   "outputs": [
    {
     "name": "stdout",
     "output_type": "stream",
     "text": [
      "TCGAACGAAAATAAATTGCTCGTTCGCCATTTCTTTACTGCGGTGATGCTCACATCTGTACTGTGAGTTCCGATAGTAGAGGTTTATACCATCGCAAAA\n",
      "\n"
     ]
    }
   ],
   "source": [
    "print(seq[-100:]) # last 100 nt of the data set"
   ]
  },
  {
   "cell_type": "code",
   "execution_count": 3,
   "metadata": {},
   "outputs": [
    {
     "name": "stdout",
     "output_type": "stream",
     "text": [
      "1,108,251\n"
     ]
    }
   ],
   "source": [
    "print(f\"{len(seq):,}\") # number of nt of the data set"
   ]
  },
  {
   "cell_type": "markdown",
   "metadata": {},
   "source": [
    "#### Fundamental Properties of Data Set\n",
    "\n",
    "**Genome Length**: 1,108,251 ($1.108 \\cdot 10^6$) nt\n",
    "\n",
    "**Organism**: Not a Fucking Alien, or is it?"
   ]
  },
  {
   "cell_type": "markdown",
   "metadata": {},
   "source": [
    "#### Objectives\n",
    "\n",
    "1. Obtain a transcript of the genome sequence.\n",
    "2. Obtain the translate of the transcript.\n",
    "3. Create a phylogenetic tree of the genome sequence.\n",
    "4. Identify the causative agent."
   ]
  },
  {
   "cell_type": "markdown",
   "metadata": {},
   "source": [
    "#### START YOUR WORKSHOP HERE!"
   ]
  },
  {
   "cell_type": "code",
   "execution_count": 4,
   "metadata": {},
   "outputs": [],
   "source": [
    "# this is a python cell\n",
    "# start here"
   ]
  },
  {
   "cell_type": "code",
   "execution_count": null,
   "metadata": {},
   "outputs": [],
   "source": []
  }
 ],
 "metadata": {
  "kernelspec": {
   "display_name": "bioinformatics",
   "language": "python",
   "name": "python3"
  },
  "language_info": {
   "codemirror_mode": {
    "name": "ipython",
    "version": 3
   },
   "file_extension": ".py",
   "mimetype": "text/x-python",
   "name": "python",
   "nbconvert_exporter": "python",
   "pygments_lexer": "ipython3",
   "version": "3.12.3"
  }
 },
 "nbformat": 4,
 "nbformat_minor": 2
}
